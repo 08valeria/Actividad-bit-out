{
  "nbformat": 4,
  "nbformat_minor": 0,
  "metadata": {
    "colab": {
      "provenance": []
    },
    "kernelspec": {
      "name": "python3",
      "display_name": "Python 3"
    },
    "language_info": {
      "name": "python"
    }
  },
  "cells": [
    {
      "cell_type": "markdown",
      "source": [
        "Genesis Escalona 30.908.256"
      ],
      "metadata": {
        "id": "HOcPyGH7BWUJ"
      }
    },
    {
      "cell_type": "markdown",
      "source": [
        "\n",
        "\n",
        "---\n",
        "\n"
      ],
      "metadata": {
        "id": "FUdJYEjhBc8w"
      }
    },
    {
      "cell_type": "markdown",
      "source": [
        " BIT OUT"
      ],
      "metadata": {
        "id": "s7bFkVnmB1hL"
      }
    },
    {
      "cell_type": "markdown",
      "source": [
        "\n",
        "\n",
        "---\n",
        "\n"
      ],
      "metadata": {
        "id": "vx7imOU_Bh0C"
      }
    },
    {
      "cell_type": "markdown",
      "source": [
        "**Ordenamiento por burbuja**"
      ],
      "metadata": {
        "id": "5D-q6y1MBOEv"
      }
    },
    {
      "cell_type": "code",
      "execution_count": 2,
      "metadata": {
        "colab": {
          "base_uri": "https://localhost:8080/"
        },
        "id": "OLiv5-Su6fvh",
        "outputId": "d19669ba-f675-4882-b536-4a8202eecf97"
      },
      "outputs": [
        {
          "output_type": "stream",
          "name": "stdout",
          "text": [
            "Lista ordenada: [12, 20, 32, 54, 70, 77, 98]\n"
          ]
        }
      ],
      "source": [
        "def bubble_sort(arr):\n",
        "    n = len(arr)  # Obtener la longitud de la lista\n",
        "    # Recorrer todos los elementos de la lista\n",
        "    for i in range(n):\n",
        "        swapped = False  # Bandera para detectar si hubo intercambio\n",
        "        # Últimos i elementos ya están en su lugar\n",
        "        for j in range(0, n-i-1):\n",
        "            # Comparar el elemento actual con el siguiente\n",
        "            if arr[j] > arr[j+1]:\n",
        "                # Intercambiar si el elemento actual es mayor que el siguiente\n",
        "                arr[j], arr[j+1] = arr[j+1], arr[j]\n",
        "                swapped = True  # Se realizó un intercambio\n",
        "        # Si no hubo intercambios, la lista ya está ordenada\n",
        "        if not swapped:\n",
        "            break  # Salir del bucle si no se realizaron intercambios\n",
        "\n",
        "# Ejemplo de uso\n",
        "lista = [54, 77, 20, 12, 32, 70, 98]\n",
        "bubble_sort(lista)\n",
        "print(\"Lista ordenada:\", lista)"
      ]
    },
    {
      "cell_type": "markdown",
      "source": [
        "\n",
        "\n",
        "---\n",
        "\n"
      ],
      "metadata": {
        "id": "it5MK5Q9CDZY"
      }
    },
    {
      "cell_type": "markdown",
      "source": [
        "**Ordenamiento por Inserción**"
      ],
      "metadata": {
        "id": "2TKmQM6MCFXK"
      }
    },
    {
      "cell_type": "code",
      "source": [
        "def insertion_sort(arr):\n",
        "    n = len(arr)  # Obtener la longitud de la lista\n",
        "    # Recorrer desde el segundo elemento hasta el final de la lista\n",
        "    for i in range(1, n):\n",
        "        key = arr[i]  # Elemento a insertar\n",
        "        j = i - 1\n",
        "        swapped = False  # Bandera para detectar si hubo intercambio\n",
        "\n",
        "        # Mover los elementos de arr[0..i-1] que son mayores que la clave\n",
        "        # a una posición adelante de su posición actual\n",
        "        while j >= 0 and arr[j] > key:\n",
        "            arr[j + 1] = arr[j]  # Desplazar el elemento hacia la derecha\n",
        "            j -= 1\n",
        "            swapped = True  # Se realizó un intercambio\n",
        "\n",
        "        arr[j + 1] = key  # Insertar la clave en su posición correcta\n",
        "\n",
        "        # Si no hubo intercambios, la lista ya está ordenada\n",
        "        if not swapped:\n",
        "            break  # Salir del bucle si no se realizaron intercambios\n",
        "\n",
        "# Ejemplo de uso\n",
        "lista = [64, 34, 25, 12, 22, 11, 90]\n",
        "insertion_sort(lista)\n",
        "print(\"Lista ordenada:\", lista)"
      ],
      "metadata": {
        "colab": {
          "base_uri": "https://localhost:8080/"
        },
        "id": "adYM7UoNCBiw",
        "outputId": "08a53739-5928-4310-ec54-e2229a5ee06e"
      },
      "execution_count": 12,
      "outputs": [
        {
          "output_type": "stream",
          "name": "stdout",
          "text": [
            "Lista ordenada: [11, 12, 22, 25, 34, 64, 90]\n"
          ]
        }
      ]
    },
    {
      "cell_type": "markdown",
      "source": [
        "\n",
        "\n",
        "---\n",
        "\n"
      ],
      "metadata": {
        "id": "XbIdAn_QDnlI"
      }
    },
    {
      "cell_type": "markdown",
      "source": [
        "**Ordenamiento por selección**"
      ],
      "metadata": {
        "id": "UViNG3eCDn11"
      }
    },
    {
      "cell_type": "code",
      "source": [
        "def selection_sort(arr):\n",
        "    n = len(arr)  # Obtener la longitud de la lista\n",
        "    # Recorrer todos los elementos de la lista\n",
        "    for i in range(n):\n",
        "        min_index = i  # Suponemos que el primer elemento es el mínimo\n",
        "        swapped = False  # Bandera para detectar si hubo intercambio\n",
        "\n",
        "        # Encontrar el índice del elemento mínimo en el resto de la lista\n",
        "        for j in range(i + 1, n):\n",
        "            if arr[j] < arr[min_index]:\n",
        "                min_index = j  # Actualizar el índice del mínimo\n",
        "\n",
        "        # Intercambiar el elemento mínimo encontrado con el primero\n",
        "        if min_index != i:\n",
        "            arr[i], arr[min_index] = arr[min_index], arr[i]\n",
        "            swapped = True  # Se realizó un intercambio\n",
        "\n",
        "        # Si no hubo intercambios, la lista ya está ordenada\n",
        "        if not swapped:\n",
        "            break  # Salir del bucle si no se realizaron intercambios\n",
        "\n",
        "# Ejemplo de uso\n",
        "lista = [54, 77, 20, 12, 32, 70, 98]\n",
        "selection_sort(lista)\n",
        "print(\"Lista ordenada:\", lista)"
      ],
      "metadata": {
        "colab": {
          "base_uri": "https://localhost:8080/"
        },
        "id": "0mCdUqV-CFBI",
        "outputId": "487d8569-8312-49f0-dbcc-42f966ab952c"
      },
      "execution_count": 14,
      "outputs": [
        {
          "output_type": "stream",
          "name": "stdout",
          "text": [
            "Lista ordenada: [12, 20, 32, 54, 77, 70, 98]\n"
          ]
        }
      ]
    }
  ]
}